{
  "cells": [
    {
      "cell_type": "markdown",
      "source": [
        "**STEP 1**"
      ],
      "metadata": {
        "id": "LXcxk_-VQnbo"
      }
    },
    {
      "cell_type": "code",
      "execution_count": 1,
      "metadata": {
        "id": "6FP2I5GInbsK"
      },
      "outputs": [],
      "source": [
        "import pickle\n",
        "import numpy as np\n",
        "import pandas as pd\n",
        "from sklearn.model_selection import train_test_split, cross_val_score, KFold\n",
        "from sklearn.naive_bayes import GaussianNB\n",
        "from sklearn.linear_model import Perceptron\n",
        "from sklearn.preprocessing import StandardScaler\n",
        "from sklearn.metrics import accuracy_score, precision_score, recall_score, f1_score"
      ]
    },
    {
      "cell_type": "markdown",
      "source": [
        "STEP 2"
      ],
      "metadata": {
        "id": "ByvhAQxvQz9W"
      }
    },
    {
      "cell_type": "code",
      "execution_count": 2,
      "metadata": {
        "colab": {
          "base_uri": "https://localhost:8080/"
        },
        "id": "Xz_oslrvo-Sf",
        "outputId": "947cc25a-383b-4924-cf71-afa733fa7d0f"
      },
      "outputs": [
        {
          "output_type": "stream",
          "name": "stdout",
          "text": [
            "Index(['Glucose', 'Insulin', 'BMI', 'Age', 'Outcome'], dtype='object')\n"
          ]
        }
      ],
      "source": [
        "# Load dataset\n",
        "data = pd.read_csv('/content/diabetes.csv')\n",
        "\n",
        "# Check the available columns in your dataset\n",
        "print(data.columns)"
      ]
    },
    {
      "cell_type": "code",
      "source": [
        "# Split data into features and target\n",
        "X = data[['Age', 'Glucose', 'Insulin', 'BMI']]\n",
        "y = data['Outcome']\n",
        "\n",
        "# Train-test split\n",
        "X_train, X_test, y_train, y_test = train_test_split(X, y, test_size=0.2, random_state=42)\n",
        "\n",
        "# Feature scaling\n",
        "scaler = StandardScaler()\n",
        "X_train = scaler.fit_transform(X_train)\n",
        "X_test = scaler.transform(X_test)"
      ],
      "metadata": {
        "id": "lmahG3KaNi8R"
      },
      "execution_count": 3,
      "outputs": []
    },
    {
      "cell_type": "code",
      "source": [
        "# Assuming `X_train` is your training data\n",
        "scaler = StandardScaler()\n",
        "X_train_scaled = scaler.fit_transform(X_train)\n",
        "\n",
        "# Train your models with `X_train_scaled` and then save both the models and the scaler\n",
        "with open('scaler.pkl', 'wb') as f:\n",
        "    pickle.dump(scaler, f)"
      ],
      "metadata": {
        "id": "9NUUxnynruqL"
      },
      "execution_count": 4,
      "outputs": []
    },
    {
      "cell_type": "markdown",
      "metadata": {
        "id": "gC1vk5IQpG3W"
      },
      "source": [
        "STEP 3"
      ]
    },
    {
      "cell_type": "code",
      "execution_count": 5,
      "metadata": {
        "id": "gkTLMsVIpIFJ"
      },
      "outputs": [],
      "source": [
        "# Train Naive Bayes model\n",
        "naive_bayes_model = GaussianNB()\n",
        "naive_bayes_model.fit(X_train, y_train)\n",
        "\n",
        "# Predict with Naive Bayes\n",
        "y_pred_nb = naive_bayes_model.predict(X_test)"
      ]
    },
    {
      "cell_type": "markdown",
      "metadata": {
        "id": "SaqpFfC9pKRX"
      },
      "source": [
        "STEP 4"
      ]
    },
    {
      "cell_type": "code",
      "execution_count": 6,
      "metadata": {
        "id": "XpTPD5kKpLWH"
      },
      "outputs": [],
      "source": [
        "# Train Perceptron model\n",
        "perceptron_model = Perceptron(max_iter=1000, tol=1e-3, random_state=42)\n",
        "perceptron_model.fit(X_train, y_train)\n",
        "\n",
        "# Predict with Perceptron\n",
        "y_pred_perceptron = perceptron_model.predict(X_test)"
      ]
    },
    {
      "cell_type": "markdown",
      "metadata": {
        "id": "TRNn9xMQwYxw"
      },
      "source": [
        "Custom perceptron"
      ]
    },
    {
      "cell_type": "markdown",
      "source": [
        "The CustomPerceptron class models a simple perceptron, a linear classifier that adjusts its weights iteratively based on misclassified samples."
      ],
      "metadata": {
        "id": "wqF9UymQnl_u"
      }
    },
    {
      "cell_type": "code",
      "execution_count": 7,
      "metadata": {
        "id": "tUQiBj0hvSuo"
      },
      "outputs": [],
      "source": [
        "\n",
        "class CustomPerceptron:\n",
        "    def __init__(self, learning_rate=0.01, n_iters=1000):\n",
        "        #learning_rate: Controls how much the weights are updated after each misclassification.\n",
        "        self.learning_rate = learning_rate\n",
        "        #n_iters: The number of iterations (epochs) to train the model.\n",
        "        self.n_iters = n_iters\n",
        "        #weights: An array to store the weights corresponding to each feature in the dataset. Initialized\n",
        "        self.weights = None\n",
        "        #bias: An intercept term added to the linear function, also initialized during training.\n",
        "        self.bias = None\n",
        "\n",
        "\n",
        "#X: Feature matrix of shape (n_samples, n_features), where n_samples is the number of data points and n_features is the number of features.\n",
        "#y: Target labels, assumed to be binary (0 and 1).\n",
        "    def fit(self, X, y):\n",
        "        n_samples, n_features = X.shape\n",
        "        #self.weights as a zero array of size equal to the number of features.\n",
        "        self.weights = np.zeros(n_features)\n",
        "        self.bias = 0\n",
        "\n",
        "        # Convert labels to -1 and 1 if they are 0 and 1, for Perceptron calculation\n",
        "        y_ = np.where(y <= 0, -1, 1)\n",
        "\n",
        "        # Training loop\n",
        "        #linear_output: Computes the weighted sum of inputs (X) and weights, plus the bias:z=wTx+b\n",
        "        # y_predicted:Applies the sign function to classify the sample\n",
        "        for _ in range(self.n_iters):\n",
        "            for idx, x_i in enumerate(X):\n",
        "                linear_output = np.dot(x_i, self.weights) + self.bias\n",
        "                y_predicted = np.sign(linear_output)\n",
        "\n",
        "                # Update weights and bias if prediction is incorrect\n",
        "                #Update Rule: If the prediction (y_predicted) is incorrect, update the weights and bias:\n",
        "                #w=w+ηy\n",
        "                #b=b+ηy\n",
        "\n",
        "                if y_predicted != y_[idx]:\n",
        "                    self.weights += self.learning_rate * y_[idx] * x_i\n",
        "                    self.bias += self.learning_rate * y_[idx]\n",
        "\n",
        "#Computes the linear output for the input features\n",
        "    def predict(self, X):\n",
        "        linear_output = np.dot(X, self.weights) + self.bias\n",
        "        #Applies the sign function to classify the data.\n",
        "        y_predicted = np.sign(linear_output)\n",
        "        #Converts the outputs back to binary labels (0 and 1).\n",
        "        return np.where(y_predicted <= 0, 0, 1)\n",
        "\n",
        "# Initialize and train the custom Perceptron\n",
        "#Fits the model on the training dataset (X_train, y_train)\n",
        "custom_perceptron_model = CustomPerceptron(learning_rate=0.3, n_iters=500)\n",
        "custom_perceptron_model.fit(X_train, y_train)\n",
        "\n",
        "# Make predictions\n",
        "# Predicts the labels for the test dataset (X_test).\n",
        "y_pred_custom_perceptron = custom_perceptron_model.predict(X_test)\n"
      ]
    },
    {
      "cell_type": "markdown",
      "metadata": {
        "id": "bO9TqFptpN4Y"
      },
      "source": [
        "STEP 5"
      ]
    },
    {
      "cell_type": "code",
      "execution_count": 8,
      "metadata": {
        "id": "0pCrpdOEpPDY"
      },
      "outputs": [],
      "source": [
        "# Evaluation metrics\n",
        "def evaluate_model(y_true, y_pred):\n",
        "    return {\n",
        "        'Accuracy': accuracy_score(y_true, y_pred),\n",
        "        'Precision': precision_score(y_true, y_pred, average='weighted'),\n",
        "        'Recall': recall_score(y_true, y_pred, average='weighted'),\n",
        "        'F1 Score': f1_score(y_true, y_pred, average='weighted')\n",
        "    }"
      ]
    },
    {
      "cell_type": "code",
      "source": [
        "\n",
        "# Evaluate Naive Bayes\n",
        "nb_metrics = evaluate_model(y_test, y_pred_nb)\n",
        "print(\"Naive Bayes Metrics:\", nb_metrics)\n",
        "\n",
        "# Evaluate Perceptron\n",
        "perceptron_metrics = evaluate_model(y_test, y_pred_perceptron)\n",
        "print(\"Perceptron Metrics:\", perceptron_metrics)\n",
        "\n",
        "# Evaluate Custom made Perceptron\n",
        "custom_perceptron_metrics = evaluate_model(y_test, y_pred_custom_perceptron)\n",
        "print(\"Custom Perceptron Metrics:\", custom_perceptron_metrics)"
      ],
      "metadata": {
        "colab": {
          "base_uri": "https://localhost:8080/"
        },
        "id": "XDMKAgtmNasy",
        "outputId": "50c73712-9f69-4149-b84c-ccbb16e3193a"
      },
      "execution_count": 9,
      "outputs": [
        {
          "output_type": "stream",
          "name": "stdout",
          "text": [
            "Naive Bayes Metrics: {'Accuracy': 0.7467532467532467, 'Precision': 0.7457671957671957, 'Recall': 0.7467532467532467, 'F1 Score': 0.7462278627738957}\n",
            "Perceptron Metrics: {'Accuracy': 0.6363636363636364, 'Precision': 0.6363636363636364, 'Recall': 0.6363636363636364, 'F1 Score': 0.6363636363636364}\n",
            "Custom Perceptron Metrics: {'Accuracy': 0.7532467532467533, 'Precision': 0.7475563504054762, 'Recall': 0.7532467532467533, 'F1 Score': 0.743401841868823}\n"
          ]
        }
      ]
    },
    {
      "cell_type": "markdown",
      "source": [
        "**Analysis:**\n",
        "\n",
        "*Naive Bayes:*\n",
        "\n",
        "Strengths: Higher accuracy, precision, and recall indicate good performance, particularly in datasets with well-separated classes or features with strong independence.\n",
        "\n",
        "Weaknesses: May struggle if feature independence assumptions are violated or if features are heavily correlated.\n",
        "\n",
        "*Perceptron:*\n",
        "\n",
        "Strengths: Simplicity and computational efficiency make it useful for linearly separable datasets.\n",
        "\n",
        "Weaknesses: Lower performance metrics suggest potential struggles with convergence or non-linear decision boundaries.\n",
        "\n",
        "**Recommendation:**\n",
        "\n",
        "Use Naive Bayes if the dataset aligns well with its assumptions and speed is a priority.\n",
        "Consider Custom Perceptron for better generalization on diverse datasets, especially if it includes enhancements for non-linearity.\n",
        "Investigate further modifications or alternative models like Support Vector Machines (SVMs) or neural networks if neither suffices for the dataset's complexity."
      ],
      "metadata": {
        "id": "AX0YitajVhxw"
      }
    },
    {
      "cell_type": "markdown",
      "metadata": {
        "id": "_gayYwOnpRpX"
      },
      "source": [
        "STEP 6"
      ]
    },
    {
      "cell_type": "code",
      "execution_count": 10,
      "metadata": {
        "id": "GWnqwiRipTv2",
        "colab": {
          "base_uri": "https://localhost:8080/",
          "height": 17
        },
        "outputId": "5602cb51-d79b-4a30-9a43-060456114542"
      },
      "outputs": [
        {
          "output_type": "display_data",
          "data": {
            "text/plain": [
              "<IPython.core.display.Javascript object>"
            ],
            "application/javascript": [
              "\n",
              "    async function download(id, filename, size) {\n",
              "      if (!google.colab.kernel.accessAllowed) {\n",
              "        return;\n",
              "      }\n",
              "      const div = document.createElement('div');\n",
              "      const label = document.createElement('label');\n",
              "      label.textContent = `Downloading \"${filename}\": `;\n",
              "      div.appendChild(label);\n",
              "      const progress = document.createElement('progress');\n",
              "      progress.max = size;\n",
              "      div.appendChild(progress);\n",
              "      document.body.appendChild(div);\n",
              "\n",
              "      const buffers = [];\n",
              "      let downloaded = 0;\n",
              "\n",
              "      const channel = await google.colab.kernel.comms.open(id);\n",
              "      // Send a message to notify the kernel that we're ready.\n",
              "      channel.send({})\n",
              "\n",
              "      for await (const message of channel.messages) {\n",
              "        // Send a message to notify the kernel that we're ready.\n",
              "        channel.send({})\n",
              "        if (message.buffers) {\n",
              "          for (const buffer of message.buffers) {\n",
              "            buffers.push(buffer);\n",
              "            downloaded += buffer.byteLength;\n",
              "            progress.value = downloaded;\n",
              "          }\n",
              "        }\n",
              "      }\n",
              "      const blob = new Blob(buffers, {type: 'application/binary'});\n",
              "      const a = document.createElement('a');\n",
              "      a.href = window.URL.createObjectURL(blob);\n",
              "      a.download = filename;\n",
              "      div.appendChild(a);\n",
              "      a.click();\n",
              "      div.remove();\n",
              "    }\n",
              "  "
            ]
          },
          "metadata": {}
        },
        {
          "output_type": "display_data",
          "data": {
            "text/plain": [
              "<IPython.core.display.Javascript object>"
            ],
            "application/javascript": [
              "download(\"download_ea6f422e-40ef-4eba-89f3-94447139c9c8\", \"naive_bayes_model.pkl\", 706)"
            ]
          },
          "metadata": {}
        },
        {
          "output_type": "display_data",
          "data": {
            "text/plain": [
              "<IPython.core.display.Javascript object>"
            ],
            "application/javascript": [
              "\n",
              "    async function download(id, filename, size) {\n",
              "      if (!google.colab.kernel.accessAllowed) {\n",
              "        return;\n",
              "      }\n",
              "      const div = document.createElement('div');\n",
              "      const label = document.createElement('label');\n",
              "      label.textContent = `Downloading \"${filename}\": `;\n",
              "      div.appendChild(label);\n",
              "      const progress = document.createElement('progress');\n",
              "      progress.max = size;\n",
              "      div.appendChild(progress);\n",
              "      document.body.appendChild(div);\n",
              "\n",
              "      const buffers = [];\n",
              "      let downloaded = 0;\n",
              "\n",
              "      const channel = await google.colab.kernel.comms.open(id);\n",
              "      // Send a message to notify the kernel that we're ready.\n",
              "      channel.send({})\n",
              "\n",
              "      for await (const message of channel.messages) {\n",
              "        // Send a message to notify the kernel that we're ready.\n",
              "        channel.send({})\n",
              "        if (message.buffers) {\n",
              "          for (const buffer of message.buffers) {\n",
              "            buffers.push(buffer);\n",
              "            downloaded += buffer.byteLength;\n",
              "            progress.value = downloaded;\n",
              "          }\n",
              "        }\n",
              "      }\n",
              "      const blob = new Blob(buffers, {type: 'application/binary'});\n",
              "      const a = document.createElement('a');\n",
              "      a.href = window.URL.createObjectURL(blob);\n",
              "      a.download = filename;\n",
              "      div.appendChild(a);\n",
              "      a.click();\n",
              "      div.remove();\n",
              "    }\n",
              "  "
            ]
          },
          "metadata": {}
        },
        {
          "output_type": "display_data",
          "data": {
            "text/plain": [
              "<IPython.core.display.Javascript object>"
            ],
            "application/javascript": [
              "download(\"download_16ba29be-318c-4d7d-a2d1-f7aa5a6fd4fd\", \"perceptron_model.pkl\", 976)"
            ]
          },
          "metadata": {}
        },
        {
          "output_type": "display_data",
          "data": {
            "text/plain": [
              "<IPython.core.display.Javascript object>"
            ],
            "application/javascript": [
              "\n",
              "    async function download(id, filename, size) {\n",
              "      if (!google.colab.kernel.accessAllowed) {\n",
              "        return;\n",
              "      }\n",
              "      const div = document.createElement('div');\n",
              "      const label = document.createElement('label');\n",
              "      label.textContent = `Downloading \"${filename}\": `;\n",
              "      div.appendChild(label);\n",
              "      const progress = document.createElement('progress');\n",
              "      progress.max = size;\n",
              "      div.appendChild(progress);\n",
              "      document.body.appendChild(div);\n",
              "\n",
              "      const buffers = [];\n",
              "      let downloaded = 0;\n",
              "\n",
              "      const channel = await google.colab.kernel.comms.open(id);\n",
              "      // Send a message to notify the kernel that we're ready.\n",
              "      channel.send({})\n",
              "\n",
              "      for await (const message of channel.messages) {\n",
              "        // Send a message to notify the kernel that we're ready.\n",
              "        channel.send({})\n",
              "        if (message.buffers) {\n",
              "          for (const buffer of message.buffers) {\n",
              "            buffers.push(buffer);\n",
              "            downloaded += buffer.byteLength;\n",
              "            progress.value = downloaded;\n",
              "          }\n",
              "        }\n",
              "      }\n",
              "      const blob = new Blob(buffers, {type: 'application/binary'});\n",
              "      const a = document.createElement('a');\n",
              "      a.href = window.URL.createObjectURL(blob);\n",
              "      a.download = filename;\n",
              "      div.appendChild(a);\n",
              "      a.click();\n",
              "      div.remove();\n",
              "    }\n",
              "  "
            ]
          },
          "metadata": {}
        },
        {
          "output_type": "display_data",
          "data": {
            "text/plain": [
              "<IPython.core.display.Javascript object>"
            ],
            "application/javascript": [
              "download(\"download_51313139-9065-4ebd-83ac-cf76187b9438\", \"custom_perceptron_model.pkl\", 305)"
            ]
          },
          "metadata": {}
        }
      ],
      "source": [
        "# Save models\n",
        "with open('naive_bayes_model.pkl', 'wb') as f:\n",
        "    pickle.dump(naive_bayes_model, f)\n",
        "\n",
        "with open('perceptron_model.pkl', 'wb') as f:\n",
        "    pickle.dump(perceptron_model, f)\n",
        "\n",
        "with open('custom_perceptron_model.pkl', 'wb') as f:\n",
        "    pickle.dump(custom_perceptron_model, f)\n",
        "\n",
        "from google.colab import files\n",
        "\n",
        "# Downloading the Naïve Bayes model\n",
        "files.download('naive_bayes_model.pkl')\n",
        "\n",
        "# Downloading the Perceptron model\n",
        "files.download('perceptron_model.pkl')\n",
        "\n",
        "# Downloading the Custom Perceptron model\n",
        "files.download('custom_perceptron_model.pkl')\n"
      ]
    },
    {
      "cell_type": "markdown",
      "metadata": {
        "id": "oS9Us4q4qbZ-"
      },
      "source": [
        "STEP 9"
      ]
    },
    {
      "cell_type": "code",
      "execution_count": 11,
      "metadata": {
        "id": "4VHHIlLpqckd",
        "colab": {
          "base_uri": "https://localhost:8080/"
        },
        "outputId": "206863ce-7f8f-4350-b766-917d9b64e2e1"
      },
      "outputs": [
        {
          "output_type": "stream",
          "name": "stdout",
          "text": [
            "Naive Bayes Cross-Validation Scores: 0.7552754435107376\n",
            "Perceptron Cross-Validation Scores: 0.5480943892708598\n"
          ]
        }
      ],
      "source": [
        "# K-Fold Cross-validation for Naive Bayes\n",
        "nb_cv_scores = cross_val_score(naive_bayes_model, X, y, cv=5)\n",
        "print(\"Naive Bayes Cross-Validation Scores:\", nb_cv_scores.mean())\n",
        "\n",
        "# K-Fold Cross-validation for Perceptron\n",
        "perceptron_cv_scores = cross_val_score(perceptron_model, X, y, cv=5)\n",
        "print(\"Perceptron Cross-Validation Scores:\", perceptron_cv_scores.mean())\n"
      ]
    },
    {
      "cell_type": "markdown",
      "source": [
        "STEP 10)"
      ],
      "metadata": {
        "id": "Esf3MDfB0LPi"
      }
    },
    {
      "source": [
        "# Evaluation metrics\n",
        "def evaluate_model(y_true, y_pred):\n",
        "    return {\n",
        "        'Accuracy': accuracy_score(y_true, y_pred),\n",
        "        'Precision': precision_score(y_true, y_pred, average='weighted'),\n",
        "        'Recall': recall_score(y_true, y_pred, average='weighted'),\n",
        "        'F1 Score': f1_score(y_true, y_pred, average='weighted')\n",
        "    }"
      ],
      "cell_type": "code",
      "metadata": {
        "id": "iTXoH7NB1PfB"
      },
      "execution_count": 12,
      "outputs": []
    },
    {
      "cell_type": "code",
      "source": [
        "# Evaluate Naive Bayes\n",
        "\n",
        "# Predicting on the test set using the Naive Bayes model\n",
        "nb_predictions = naive_bayes_model.predict(X_test)\n",
        "# Evaluating the predictions against the actuals\n",
        "nb_metrics_k_fold = evaluate_model(y_test, nb_predictions)\n",
        "print(\"Naive Bayes Metrics k-fold:\", nb_metrics_k_fold)"
      ],
      "metadata": {
        "colab": {
          "base_uri": "https://localhost:8080/"
        },
        "id": "NebCakrlNM8v",
        "outputId": "eecdb059-2c30-4467-af01-7b7f31514a1d"
      },
      "execution_count": 13,
      "outputs": [
        {
          "output_type": "stream",
          "name": "stdout",
          "text": [
            "Naive Bayes Metrics k-fold: {'Accuracy': 0.7467532467532467, 'Precision': 0.7457671957671957, 'Recall': 0.7467532467532467, 'F1 Score': 0.7462278627738957}\n"
          ]
        }
      ]
    },
    {
      "cell_type": "code",
      "source": [
        "# Evaluate Perceptron\n",
        "\n",
        "# Predicting on the test set using the Perceptron model\n",
        "perceptron_predictions = perceptron_model.predict(X_test)\n",
        "# Evaluating the predictions against the actuals\n",
        "perceptron_metrics_k_fold = evaluate_model(y_test, perceptron_predictions)\n",
        "print(\"Perceptron Metrics k-fold:\", perceptron_metrics_k_fold)"
      ],
      "metadata": {
        "colab": {
          "base_uri": "https://localhost:8080/"
        },
        "id": "8LUfP0ASNNAF",
        "outputId": "0ea6be38-8315-4878-f998-65260bb9b791"
      },
      "execution_count": 14,
      "outputs": [
        {
          "output_type": "stream",
          "name": "stdout",
          "text": [
            "Perceptron Metrics k-fold: {'Accuracy': 0.6363636363636364, 'Precision': 0.6363636363636364, 'Recall': 0.6363636363636364, 'F1 Score': 0.6363636363636364}\n"
          ]
        }
      ]
    },
    {
      "cell_type": "code",
      "source": [
        "# Initialize models\n",
        "naive_bayes_model = GaussianNB()\n",
        "perceptron_model = Perceptron(max_iter=1000, tol=1e-3, random_state=42)\n",
        "\n",
        "# Define scoring metrics\n",
        "scoring_metrics = ['accuracy', 'precision_weighted', 'recall_weighted', 'f1_weighted']"
      ],
      "metadata": {
        "id": "PIEOg__l3lM1"
      },
      "execution_count": 15,
      "outputs": []
    },
    {
      "cell_type": "code",
      "source": [
        "# Function to perform cross-validation and print results\n",
        "def evaluate_model(model, model_name):\n",
        "    results = {}\n",
        "    for metric in scoring_metrics:\n",
        "        cv_scores = cross_val_score(model, X_train, y_train, cv=5, scoring=metric)  # 5-fold cross-validation\n",
        "        results[metric] = {\n",
        "            'mean': cv_scores.mean(),\n",
        "            'std': cv_scores.std()\n",
        "        }\n",
        "    print(f\"Model: {model_name}\")\n",
        "    for metric, scores in results.items():\n",
        "        print(f\"{metric.capitalize()}: Mean = {scores['mean']:.4f}, Std = {scores['std']:.4f}\")\n",
        "    print(\"-\" * 20)"
      ],
      "metadata": {
        "id": "YlrhXosbNAiN"
      },
      "execution_count": 16,
      "outputs": []
    },
    {
      "cell_type": "code",
      "source": [
        "# Evaluate models\n",
        "evaluate_model(naive_bayes_model, 'Naive Bayes')\n",
        "evaluate_model(perceptron_model, 'Perceptron')"
      ],
      "metadata": {
        "colab": {
          "base_uri": "https://localhost:8080/"
        },
        "id": "IOi370MxNEbW",
        "outputId": "1c61b0d3-0272-411c-d9c0-da122112abd8"
      },
      "execution_count": 17,
      "outputs": [
        {
          "output_type": "stream",
          "name": "stdout",
          "text": [
            "Model: Naive Bayes\n",
            "Accuracy: Mean = 0.7574, Std = 0.0260\n",
            "Precision_weighted: Mean = 0.7526, Std = 0.0281\n",
            "Recall_weighted: Mean = 0.7574, Std = 0.0260\n",
            "F1_weighted: Mean = 0.7490, Std = 0.0244\n",
            "--------------------\n",
            "Model: Perceptron\n",
            "Accuracy: Mean = 0.7361, Std = 0.0324\n",
            "Precision_weighted: Mean = 0.7406, Std = 0.0326\n",
            "Recall_weighted: Mean = 0.7361, Std = 0.0324\n",
            "F1_weighted: Mean = 0.7374, Std = 0.0321\n",
            "--------------------\n"
          ]
        }
      ]
    }
  ],
  "metadata": {
    "colab": {
      "provenance": [],
      "gpuType": "V28"
    },
    "kernelspec": {
      "display_name": "Python 3",
      "name": "python3"
    },
    "language_info": {
      "name": "python"
    },
    "accelerator": "TPU"
  },
  "nbformat": 4,
  "nbformat_minor": 0
}